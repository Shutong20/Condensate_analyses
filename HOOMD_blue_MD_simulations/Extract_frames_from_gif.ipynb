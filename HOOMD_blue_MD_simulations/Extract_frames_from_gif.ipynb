{
 "cells": [
  {
   "cell_type": "code",
   "execution_count": 1,
   "metadata": {},
   "outputs": [],
   "source": [
    "import numpy as np"
   ]
  },
  {
   "cell_type": "code",
   "execution_count": 4,
   "metadata": {},
   "outputs": [],
   "source": [
    "from PIL import Image"
   ]
  },
  {
   "cell_type": "code",
   "execution_count": 8,
   "metadata": {},
   "outputs": [],
   "source": [
    "def extract_frames_from_gif(gif_path, output_path):\n",
    "    gif = Image.open(gif_path)\n",
    "    frame_count = 0\n",
    "\n",
    "    try:\n",
    "        while True:\n",
    "            gif.seek(frame_count)\n",
    "            gif_frame = gif.copy()\n",
    "            gif_frame.save(f\"{output_path}/frame_{frame_count}.png\", \"PNG\")\n",
    "            frame_count += 1\n",
    "    except EOFError:\n",
    "        pass\n",
    "\n",
    "# Specify the path to your GIF file and the output directory for frames\n",
    "gif_file_path = \"./movie_volfrac50_Tc1_eps11.gif\"\n",
    "output_directory = \"./l860_vfr0.5_vfp0_Tc1.0_allframes/\"\n",
    "\n",
    "extract_frames_from_gif(gif_file_path, output_directory)"
   ]
  },
  {
   "cell_type": "code",
   "execution_count": null,
   "metadata": {},
   "outputs": [],
   "source": []
  }
 ],
 "metadata": {
  "kernelspec": {
   "display_name": "Python 3",
   "language": "python",
   "name": "python3"
  },
  "language_info": {
   "codemirror_mode": {
    "name": "ipython",
    "version": 3
   },
   "file_extension": ".py",
   "mimetype": "text/x-python",
   "name": "python",
   "nbconvert_exporter": "python",
   "pygments_lexer": "ipython3",
   "version": "3.6.15"
  }
 },
 "nbformat": 4,
 "nbformat_minor": 2
}
